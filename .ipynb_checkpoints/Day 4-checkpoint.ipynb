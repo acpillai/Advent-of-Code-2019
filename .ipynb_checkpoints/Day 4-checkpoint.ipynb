{
 "cells": [
  {
   "cell_type": "markdown",
   "metadata": {},
   "source": [
    "# Day 4 - Advent of Code 2018\n",
    "\n",
    "Ajit C. Pillai\n",
    "\n",
    "2018-12-04"
   ]
  },
  {
   "cell_type": "code",
   "execution_count": 1,
   "metadata": {},
   "outputs": [],
   "source": [
    "#\n",
    "from collections import Counter, defaultdict\n",
    "from datetime import datetime"
   ]
  },
  {
   "cell_type": "code",
   "execution_count": 2,
   "metadata": {},
   "outputs": [],
   "source": [
    "# Import data\n",
    "with open(\"input/day4.txt\") as f:\n",
    "    raw_input = f.read().splitlines()\n",
    "    \n",
    "# Sort data\n",
    "raw_input.sort()"
   ]
  },
  {
   "cell_type": "code",
   "execution_count": 3,
   "metadata": {},
   "outputs": [
    {
     "name": "stdout",
     "output_type": "stream",
     "text": [
      "Part 1: 19874\n",
      "Part 2: 22687\n"
     ]
    }
   ],
   "source": [
    "guards = defaultdict(Counter)\n",
    "\n",
    "for time, event in [line.split(']') for line in raw_input]:\n",
    "    time = datetime.strptime(time, '[%Y-%m-%d %H:%M')\n",
    "    \n",
    "    if '#' in event:\n",
    "        g = int(event.split('#')[1].split()[0])\n",
    "    elif 'falls' in event:\n",
    "        start = time\n",
    "    elif 'wakes' in event:\n",
    "        minutes = int((time - start).total_seconds() / 60)\n",
    "        guards[g].update((start.minute+i) for i in range(minutes))\n",
    "\n",
    "_, id = max((sum(count.values()), id) for id, count in guards.items())\n",
    "part1 = id * guards[id].most_common()[0][0]\n",
    "\n",
    "print('Part 1: {}'.format(part1))\n",
    "\n",
    "(_, minute), id = max((c.most_common()[0][::-1], id) for id, c in guards.items())\n",
    "part2 = id * minute\n",
    "print('Part 2: {}'.format(part2))\n"
   ]
  }
 ],
 "metadata": {
  "kernelspec": {
   "display_name": "Python 3",
   "language": "python",
   "name": "python3"
  },
  "language_info": {
   "codemirror_mode": {
    "name": "ipython",
    "version": 3
   },
   "file_extension": ".py",
   "mimetype": "text/x-python",
   "name": "python",
   "nbconvert_exporter": "python",
   "pygments_lexer": "ipython3",
   "version": "3.6.6"
  }
 },
 "nbformat": 4,
 "nbformat_minor": 2
}
