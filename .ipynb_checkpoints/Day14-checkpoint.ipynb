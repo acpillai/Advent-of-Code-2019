{
 "cells": [
  {
   "cell_type": "code",
   "execution_count": 1,
   "metadata": {},
   "outputs": [],
   "source": [
    "from collections import Counter\n",
    "import aocd\n",
    "import re\n",
    "from math import floor\n",
    "from scipy import optimize\n",
    "\n",
    "class Inventory(Counter):\n",
    "    def __init__(self, data, fuel):\n",
    "        self[\"FUEL\"] = -fuel\n",
    "        # create lookup table for chemical -> (needed, {traded, given})\n",
    "        lines = [list(reversed(re.split(\",? =?>? ?\", line))) for line in data.split(\"\\n\")]\n",
    "        self.lookup = {parts[0]: (int(parts[1]), Counter(\n",
    "            {parts[i]:int(parts[i+1]) for i in range(2, len(parts), 2)})) for parts in lines}\n",
    "            \n",
    "    def loop(self):\n",
    "        while True:\n",
    "            # find first negative-count-non-ore\n",
    "            for name, stored in self.items(): \n",
    "                if name!=\"ORE\" and stored < 0: break\n",
    "            else: return -self[\"ORE\"]\n",
    "            self.replace(name, stored//self.lookup[name][0])\n",
    "            \n",
    "    def replace(self, addtyp, amount):\n",
    "        if addtyp != \"ORE\":\n",
    "            addnum, typ_cnt = self.lookup[addtyp]\n",
    "            self.update({addtyp: -addnum*amount})\n",
    "            self.update(Counter({k:v*amount for k,v in typ_cnt.items()}))\n",
    "            \n",
    "assert Inventory(\"\"\"9 ORE => 2 A\\n8 ORE => 3 B\\n7 ORE => 5 C\\n3 A, 4 B => 1 AB\\n5 B, 7 C => 1 BC\\n4 C, 1 A => 1 CA\\n2 AB, 3 BC, 4 CA => 1 FUEL\"\"\", 1).loop() == 165"
   ]
  },
  {
   "cell_type": "code",
   "execution_count": 2,
   "metadata": {},
   "outputs": [
    {
     "name": "stderr",
     "output_type": "stream",
     "text": [
      "answer a: None\n",
      "submitting for part a\n"
     ]
    },
    {
     "name": "stdout",
     "output_type": "stream",
     "text": [
      "\u001b[32mThat's the right answer!  You are one gold star closer to rescuing Santa. [Continue to Part Two]\u001b[0m\n"
     ]
    },
    {
     "data": {
      "text/plain": [
       "<Response [200]>"
      ]
     },
     "execution_count": 2,
     "metadata": {},
     "output_type": "execute_result"
    }
   ],
   "source": [
    "aocd.submit(day=14, answer=Inventory(aocd.get_data(day=14), 1).loop())"
   ]
  },
  {
   "cell_type": "code",
   "execution_count": 9,
   "metadata": {},
   "outputs": [
    {
     "name": "stderr",
     "output_type": "stream",
     "text": [
      "answer a: 374457\n",
      "submitting for part b (part a is already completed)\n"
     ]
    },
    {
     "name": "stdout",
     "output_type": "stream",
     "text": [
      "aocd will not submit that answer again. You've previously guessed 3568887 and the server responded:\n",
      "\u001b[31mThat's not the right answer; your answer is too low.  If you're stuck, make sure you're using the full input data; there are also some general tips on the about page, or you can ask for hints on the subreddit.  Please wait one minute before trying again. (You guessed 3568887.) [Return to Day 14]\u001b[0m\n"
     ]
    }
   ],
   "source": [
    "metric = lambda i: abs(Inventory(aocd.get_data(day=14), i).loop()-1000000000000)\n",
    "aocd.submit(answer=floor(optimize.minimize_scalar(metric).x), day=14)"
   ]
  },
  {
   "cell_type": "code",
   "execution_count": 21,
   "metadata": {},
   "outputs": [
    {
     "name": "stdout",
     "output_type": "stream",
     "text": [
      "Part 1: 374457, Part 2: 3568888\n"
     ]
    }
   ],
   "source": [
    "import sys, math\n",
    "\n",
    "def parse_input(lines):\n",
    "    def _parse_numsymbol(numsymbol):\n",
    "        num, symbol = numsymbol.strip().split()\n",
    "        return symbol, int(num)\n",
    "    reactions = {}\n",
    "    for line in lines:\n",
    "        left, right = line.split('=>')\n",
    "        left, right = list(map(_parse_numsymbol, left.split(','))), _parse_numsymbol(right)\n",
    "        reactions[right[0]] = (right[1], left)\n",
    "    return reactions\n",
    "\n",
    "def ensure(reactions, data, what, howmuch):\n",
    "    if data[what] >= howmuch:\n",
    "        return True\n",
    "    if what == 'ORE':\n",
    "        return False\n",
    "    n = math.ceil((howmuch - data[what]) / reactions[what][0])\n",
    "    ensured = True\n",
    "    for sub_what, sub_howmuch in reactions[what][1]:\n",
    "        ensured = ensured and ensure(reactions, data, sub_what, n*sub_howmuch)\n",
    "        data[sub_what] -= n*sub_howmuch\n",
    "    if ensured:\n",
    "        data[what] += n*reactions[what][0]\n",
    "    return ensured\n",
    "\n",
    "def part1(reactions):\n",
    "    low, high = 0, 10**12\n",
    "    while low < high:\n",
    "        mid = low + (high - low) // 2\n",
    "        data = {element: 0 for element in reactions}\n",
    "        data['ORE'] = mid\n",
    "        if ensure(reactions, data, 'FUEL', 1):\n",
    "            high = mid\n",
    "        else:\n",
    "            low = mid + 1\n",
    "    return low\n",
    "\n",
    "def part2(reactions):\n",
    "    low, high = 0, 10**12\n",
    "    while low < high-1:\n",
    "        mid = low + (high - low) // 2\n",
    "        data = {element: 0 for element in reactions}\n",
    "        data['ORE'] = 10**12\n",
    "        if ensure(reactions, data, 'FUEL', mid):\n",
    "            low = mid\n",
    "        else:\n",
    "            high = mid - 1\n",
    "    return high if ensure(reactions, data, 'FUEL', high) else low\n",
    "\n",
    "reactions = parse_input(aocd.get_data(day=14).split('\\n'))\n",
    "\n",
    "print('Part 1: {0}, Part 2: {1}'.format(part1(reactions), part2(reactions)))"
   ]
  },
  {
   "cell_type": "code",
   "execution_count": 22,
   "metadata": {},
   "outputs": [
    {
     "name": "stderr",
     "output_type": "stream",
     "text": [
      "answer a: 374457\n",
      "submitting for part b (part a is already completed)\n"
     ]
    },
    {
     "name": "stdout",
     "output_type": "stream",
     "text": [
      "\u001b[32mThat's the right answer!  You are one gold star closer to rescuing Santa.You have completed Day 14! You can [Shareon\n",
      "  Twitter\n",
      "Mastodon] this victory or [Return to Your Advent Calendar].\u001b[0m\n"
     ]
    },
    {
     "data": {
      "text/plain": [
       "<Response [200]>"
      ]
     },
     "execution_count": 22,
     "metadata": {},
     "output_type": "execute_result"
    }
   ],
   "source": [
    "aocd.submit(day=14, answer=part2(reactions))"
   ]
  },
  {
   "cell_type": "code",
   "execution_count": null,
   "metadata": {},
   "outputs": [],
   "source": []
  }
 ],
 "metadata": {
  "kernelspec": {
   "display_name": "Python 3",
   "language": "python",
   "name": "python3"
  },
  "language_info": {
   "codemirror_mode": {
    "name": "ipython",
    "version": 3
   },
   "file_extension": ".py",
   "mimetype": "text/x-python",
   "name": "python",
   "nbconvert_exporter": "python",
   "pygments_lexer": "ipython3",
   "version": "3.7.3"
  }
 },
 "nbformat": 4,
 "nbformat_minor": 4
}
