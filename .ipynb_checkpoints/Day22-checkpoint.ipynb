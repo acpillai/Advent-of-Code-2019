{
 "cells": [
  {
   "cell_type": "code",
   "execution_count": 3,
   "metadata": {},
   "outputs": [
    {
     "name": "stderr",
     "output_type": "stream",
     "text": [
      "answer a: 6696\n",
      "submitting for part b (part a is already completed)\n"
     ]
    },
    {
     "name": "stdout",
     "output_type": "stream",
     "text": [
      "\n",
      "\n",
      "aocd will not submit that answer again. You've previously guessed 6696 and the server responded:\n",
      "\u001b[31mThat's not the right answer; your answer is too low.  If you're stuck, make sure you're using the full input data; there are also some general tips on the about page, or you can ask for hints on the subreddit.  Please wait one minute before trying again. (You guessed 6696.) [Return to Day 22]\u001b[0m\n"
     ]
    }
   ],
   "source": [
    "import aocd\n",
    "import numpy as np\n",
    "\n",
    "def deal_with_increment(d, amount):\n",
    "    nd = [0]*len(d)\n",
    "    for i in range(len(d)):\n",
    "        nd[(i*int(amount))%len(d)] = d[i]\n",
    "    return nd\n",
    "\n",
    "def run(data, deck_size=10):\n",
    "    d = list(range(0, deck_size))\n",
    "    for line in data.split(\"\\n\"):\n",
    "        words = line.split(\" \")\n",
    "        if words[-2] == \"new\": d = d[::-1]\n",
    "        if words[-2] == \"cut\": d = d[int(words[-1]):]+d[:int(words[-1])]\n",
    "        if words[-2] == \"increment\": d = deal_with_increment(d, words[-1])\n",
    "    return d\n",
    "\n",
    "assert run(\"\"\"deal with increment 7\n",
    "deal into new stack\n",
    "deal into new stack\"\"\") == [0, 3, 6, 9, 2, 5, 8, 1, 4, 7]\n",
    "print()\n",
    "assert run(\"\"\"cut 6\n",
    "deal with increment 7\n",
    "deal into new stack\"\"\") == [3, 0, 7, 4, 1, 8, 5, 2, 9, 6]\n",
    "print()\n",
    "assert run(\"\"\"deal with increment 7\n",
    "deal with increment 9\n",
    "cut -2\"\"\") == [6, 3, 0, 7, 4, 1, 8, 5, 2, 9]\n",
    "\n",
    "assert run(\"\"\"deal into new stack\n",
    "cut -2\n",
    "deal with increment 7\n",
    "cut 8\n",
    "cut -4\n",
    "deal with increment 7\n",
    "cut 3\n",
    "deal with increment 9\n",
    "deal with increment 3\n",
    "cut -1\"\"\") == [9, 2, 5, 8, 1, 4, 7, 0, 3, 6]\n",
    "\n",
    "sol = run(aocd.get_data(day=22), 10007).index(2019)\n",
    "aocd.submit(sol, day=22)"
   ]
  },
  {
   "cell_type": "code",
   "execution_count": 4,
   "metadata": {},
   "outputs": [],
   "source": [
    "def egcd(a, b):\n",
    "    if a == 0:\n",
    "        return (b, 0, 1)\n",
    "    else:\n",
    "        g, y, x = egcd(b % a, a)\n",
    "        return (g, x - (b // a) * y, y)\n",
    "\n",
    "def modinv(a, m):\n",
    "    g, x, y = egcd(a, m)\n",
    "    if g != 1:\n",
    "        raise Exception('modular inverse does not exist')\n",
    "    else:\n",
    "        return x % m"
   ]
  },
  {
   "cell_type": "code",
   "execution_count": 6,
   "metadata": {},
   "outputs": [
    {
     "name": "stderr",
     "output_type": "stream",
     "text": [
      "answer a: 6696\n",
      "submitting for part b (part a is already completed)\n"
     ]
    },
    {
     "name": "stdout",
     "output_type": "stream",
     "text": [
      "\u001b[32mThat's the right answer!  You are one gold star closer to rescuing Santa.You have completed Day 22! You can [Shareon\n",
      "  Twitter\n",
      "Mastodon] this victory or [Return to Your Advent Calendar].\u001b[0m\n"
     ]
    },
    {
     "data": {
      "text/plain": [
       "<Response [200]>"
      ]
     },
     "execution_count": 6,
     "metadata": {},
     "output_type": "execute_result"
    }
   ],
   "source": [
    "def solve(data, position, deck_size, rep):\n",
    "    lines = [line.split(\" \") for line in data.split(\"\\n\")]\n",
    "\n",
    "    add, mul = 0, 1\n",
    "    # we iterate over the input and accumulate the actions\n",
    "    for op in lines:\n",
    "        # cut shifts the card into -n * past_multipliers        -> save inverse, forward shift\n",
    "        if op[-2] == \"cut\":   add += int(op[-1]) * mul\n",
    "        # shuffle_into_new_deck reverses the deck               _> save inverse, which is normal\n",
    "        elif op[-2] == \"new\": mul *= -1; add += mul\n",
    "        # deal_with_increments multiplies                       -> save the inverse of this multiplication\n",
    "        else:               mul *= pow(modinv(int(op[-1]), deck_size), 1, deck_size)\n",
    "    \n",
    "    # invert the current multiplier\n",
    "    #mul_inv = np.pow(1 - mul, -1, deck_size)\n",
    "    mul_inv = pow(modinv(1 - mul, deck_size), 1, deck_size)\n",
    "    # repeate the inverse multiplication\n",
    "    muls    = pow(mul, rep, deck_size)\n",
    "    # repeat the inverse addition\n",
    "    adds    = add * (1 - muls) * mul_inv\n",
    "\n",
    "    return (position * muls + adds) % deck_size\n",
    "\n",
    "aocd.submit(solve(aocd.get_data(day=22), position=2020, deck_size=119315717514047, rep=101741582076661), day=22)"
   ]
  },
  {
   "cell_type": "code",
   "execution_count": null,
   "metadata": {},
   "outputs": [],
   "source": []
  }
 ],
 "metadata": {
  "kernelspec": {
   "display_name": "Python 3",
   "language": "python",
   "name": "python3"
  },
  "language_info": {
   "codemirror_mode": {
    "name": "ipython",
    "version": 3
   },
   "file_extension": ".py",
   "mimetype": "text/x-python",
   "name": "python",
   "nbconvert_exporter": "python",
   "pygments_lexer": "ipython3",
   "version": "3.7.3"
  }
 },
 "nbformat": 4,
 "nbformat_minor": 4
}
