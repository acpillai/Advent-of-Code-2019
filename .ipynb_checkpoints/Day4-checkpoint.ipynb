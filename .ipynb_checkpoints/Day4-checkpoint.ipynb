{
 "cells": [
  {
   "cell_type": "markdown",
   "metadata": {},
   "source": [
    "# Advent of Code Day 4\n",
    "\n",
    "\n",
    "Ajit C. Pillai\n",
    "\n",
    "2019-12-04"
   ]
  },
  {
   "cell_type": "raw",
   "metadata": {},
   "source": [
    "--- Day 4: Secure Container ---\n",
    "You arrive at the Venus fuel depot only to discover it's protected by a password. The Elves had written the password on a sticky note, but someone threw it out.\n",
    "\n",
    "However, they do remember a few key facts about the password:\n",
    "\n",
    "It is a six-digit number.\n",
    "The value is within the range given in your puzzle input.\n",
    "Two adjacent digits are the same (like 22 in 122345).\n",
    "Going from left to right, the digits never decrease; they only ever increase or stay the same (like 111123 or 135679).\n",
    "Other than the range rule, the following are true:\n",
    "\n",
    "111111 meets these criteria (double 11, never decreases).\n",
    "223450 does not meet these criteria (decreasing pair of digits 50).\n",
    "123789 does not meet these criteria (no double).\n",
    "How many different passwords within the range given in your puzzle input meet these criteria?\n",
    "\n",
    "Your puzzle input is 265275-781584."
   ]
  },
  {
   "cell_type": "markdown",
   "metadata": {},
   "source": [
    "## Solution"
   ]
  },
  {
   "cell_type": "code",
   "execution_count": 1,
   "metadata": {},
   "outputs": [
    {
     "name": "stdout",
     "output_type": "stream",
     "text": [
      "960\n",
      "626\n"
     ]
    }
   ],
   "source": [
    "start = 265275\n",
    "end = 781584\n",
    "\n",
    "count1,count2 = 0,0\n",
    "\n",
    "curr = start\n",
    "\n",
    "while curr < end:\n",
    "    number = str(curr)\n",
    "    for i in range(len(number)-1):\n",
    "        if number[i] > number[i+1]:\n",
    "            number = number[:i+1]\n",
    "            lastDigit = number[len(number)-1]\n",
    "            while len(number) < 6:\n",
    "                number += lastDigit\n",
    "            curr = int(number)\n",
    "            break\n",
    "    if curr > end:\n",
    "        break\n",
    "    numberDigits = {x:0 for x in number}\n",
    "    for digit in number:\n",
    "        numberDigits[digit] += 1\n",
    "    for k in numberDigits.values():\n",
    "        if k >= 2:\n",
    "            count1 += 1\n",
    "            break\n",
    "    for k in numberDigits.values():\n",
    "        if k == 2:\n",
    "            count2 += 1\n",
    "            break\n",
    "    curr += 1\n",
    "\n",
    "print(count1)\n",
    "print(count2)"
   ]
  },
  {
   "cell_type": "code",
   "execution_count": null,
   "metadata": {},
   "outputs": [],
   "source": []
  }
 ],
 "metadata": {
  "kernelspec": {
   "display_name": "Python 3",
   "language": "python",
   "name": "python3"
  },
  "language_info": {
   "codemirror_mode": {
    "name": "ipython",
    "version": 3
   },
   "file_extension": ".py",
   "mimetype": "text/x-python",
   "name": "python",
   "nbconvert_exporter": "python",
   "pygments_lexer": "ipython3",
   "version": "3.7.3"
  }
 },
 "nbformat": 4,
 "nbformat_minor": 4
}
