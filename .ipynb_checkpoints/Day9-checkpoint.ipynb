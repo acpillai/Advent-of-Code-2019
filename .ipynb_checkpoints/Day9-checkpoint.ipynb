{
 "cells": [
  {
   "cell_type": "code",
   "execution_count": 10,
   "metadata": {},
   "outputs": [
    {
     "name": "stdout",
     "output_type": "stream",
     "text": [
      "[1102, 34463338, 34463338, 63, 1007, 63, 34463338, 63, 1005, 63, 53, 1102, 3, 1, 1000, 109, 988, 209, 12, 9, 1000, 209, 6, 209, 3, 203, 0, 1008, 1000, 1, 63, 1005, 63, 65, 1008, 1000, 2, 63, 1005, 63, 904, 1008, 1000, 0, 63, 1005, 63, 58, 4, 25, 104, 0, 99, 4, 0, 104, 0, 99, 4, 17, 104, 0, 99, 0, 0, 1101, 0, 33, 1017, 1101, 24, 0, 1014, 1101, 519, 0, 1028, 1102, 34, 1, 1004, 1101, 0, 31, 1007, 1101, 0, 844, 1025, 1102, 0, 1, 1020, 1102, 38, 1, 1003, 1102, 39, 1, 1008, 1102, 849, 1, 1024, 1101, 0, 22, 1001, 1102, 25, 1, 1009, 1101, 1, 0, 1021, 1101, 0, 407, 1022, 1101, 404, 0, 1023, 1101, 0, 35, 1013, 1101, 27, 0, 1011, 1101, 0, 37, 1016, 1102, 1, 26, 1019, 1102, 28, 1, 1015, 1101, 0, 30, 1000, 1102, 1, 36, 1005, 1101, 0, 29, 1002, 1101, 23, 0, 1012, 1102, 1, 32, 1010, 1102, 21, 1, 1006, 1101, 808, 0, 1027, 1102, 20, 1, 1018, 1101, 0, 514, 1029, 1102, 1, 815, 1026, 109, 14, 2107, 24, -5, 63, 1005, 63, 199, 4, 187, 1105, 1, 203, 1001, 64, 1, 64, 1002, 64, 2, 64, 109, -1, 2108, 21, -7, 63, 1005, 63, 225, 4, 209, 1001, 64, 1, 64, 1106, 0, 225, 1002, 64, 2, 64, 109, -16, 1201, 6, 0, 63, 1008, 63, 35, 63, 1005, 63, 249, 1001, 64, 1, 64, 1106, 0, 251, 4, 231, 1002, 64, 2, 64, 109, 9, 2102, 1, 2, 63, 1008, 63, 37, 63, 1005, 63, 271, 1105, 1, 277, 4, 257, 1001, 64, 1, 64, 1002, 64, 2, 64, 109, 11, 1208, -8, 23, 63, 1005, 63, 293, 1105, 1, 299, 4, 283, 1001, 64, 1, 64, 1002, 64, 2, 64, 109, 8, 21107, 40, 39, -8, 1005, 1017, 319, 1001, 64, 1, 64, 1106, 0, 321, 4, 305, 1002, 64, 2, 64, 109, -28, 2101, 0, 6, 63, 1008, 63, 39, 63, 1005, 63, 341, 1106, 0, 347, 4, 327, 1001, 64, 1, 64, 1002, 64, 2, 64, 109, 19, 2107, 26, -7, 63, 1005, 63, 363, 1106, 0, 369, 4, 353, 1001, 64, 1, 64, 1002, 64, 2, 64, 109, 1, 1202, -9, 1, 63, 1008, 63, 39, 63, 1005, 63, 395, 4, 375, 1001, 64, 1, 64, 1105, 1, 395, 1002, 64, 2, 64, 109, 9, 2105, 1, -3, 1106, 0, 413, 4, 401, 1001, 64, 1, 64, 1002, 64, 2, 64, 109, -13, 1207, -4, 26, 63, 1005, 63, 435, 4, 419, 1001, 64, 1, 64, 1105, 1, 435, 1002, 64, 2, 64, 109, -1, 21101, 41, 0, 7, 1008, 1019, 41, 63, 1005, 63, 461, 4, 441, 1001, 64, 1, 64, 1105, 1, 461, 1002, 64, 2, 64, 109, 7, 21107, 42, 43, -2, 1005, 1017, 479, 4, 467, 1105, 1, 483, 1001, 64, 1, 64, 1002, 64, 2, 64, 109, -6, 21108, 43, 46, 0, 1005, 1013, 499, 1106, 0, 505, 4, 489, 1001, 64, 1, 64, 1002, 64, 2, 64, 109, 17, 2106, 0, -2, 4, 511, 1105, 1, 523, 1001, 64, 1, 64, 1002, 64, 2, 64, 109, -27, 1202, -1, 1, 63, 1008, 63, 28, 63, 1005, 63, 547, 1001, 64, 1, 64, 1106, 0, 549, 4, 529, 1002, 64, 2, 64, 109, 18, 1206, -1, 567, 4, 555, 1001, 64, 1, 64, 1106, 0, 567, 1002, 64, 2, 64, 109, -16, 21102, 44, 1, 6, 1008, 1011, 43, 63, 1005, 63, 587, 1106, 0, 593, 4, 573, 1001, 64, 1, 64, 1002, 64, 2, 64, 109, 8, 21102, 45, 1, -1, 1008, 1012, 45, 63, 1005, 63, 619, 4, 599, 1001, 64, 1, 64, 1105, 1, 619, 1002, 64, 2, 64, 109, 7, 1205, 1, 633, 4, 625, 1106, 0, 637, 1001, 64, 1, 64, 1002, 64, 2, 64, 109, -8, 2102, 1, -3, 63, 1008, 63, 25, 63, 1005, 63, 659, 4, 643, 1105, 1, 663, 1001, 64, 1, 64, 1002, 64, 2, 64, 109, 14, 1206, -5, 679, 1001, 64, 1, 64, 1105, 1, 681, 4, 669, 1002, 64, 2, 64, 109, -28, 2101, 0, 2, 63, 1008, 63, 30, 63, 1005, 63, 707, 4, 687, 1001, 64, 1, 64, 1106, 0, 707, 1002, 64, 2, 64, 109, 21, 21101, 46, 0, 0, 1008, 1019, 48, 63, 1005, 63, 727, 1106, 0, 733, 4, 713, 1001, 64, 1, 64, 1002, 64, 2, 64, 109, -3, 21108, 47, 47, 1, 1005, 1017, 751, 4, 739, 1106, 0, 755, 1001, 64, 1, 64, 1002, 64, 2, 64, 109, -13, 1207, 0, 37, 63, 1005, 63, 771, 1105, 1, 777, 4, 761, 1001, 64, 1, 64, 1002, 64, 2, 64, 109, 7, 2108, 21, -9, 63, 1005, 63, 797, 1001, 64, 1, 64, 1105, 1, 799, 4, 783, 1002, 64, 2, 64, 109, 22, 2106, 0, -5, 1001, 64, 1, 64, 1106, 0, 817, 4, 805, 1002, 64, 2, 64, 109, -4, 1205, -8, 829, 1106, 0, 835, 4, 823, 1001, 64, 1, 64, 1002, 64, 2, 64, 109, -4, 2105, 1, 0, 4, 841, 1105, 1, 853, 1001, 64, 1, 64, 1002, 64, 2, 64, 109, -30, 1208, 6, 30, 63, 1005, 63, 871, 4, 859, 1105, 1, 875, 1001, 64, 1, 64, 1002, 64, 2, 64, 109, -2, 1201, 9, 0, 63, 1008, 63, 22, 63, 1005, 63, 897, 4, 881, 1106, 0, 901, 1001, 64, 1, 64, 4, 64, 99, 21101, 27, 0, 1, 21102, 1, 915, 0, 1106, 0, 922, 21201, 1, 66266, 1, 204, 1, 99, 109, 3, 1207, -2, 3, 63, 1005, 63, 964, 21201, -2, -1, 1, 21102, 942, 1, 0, 1105, 1, 922, 22101, 0, 1, -1, 21201, -2, -3, 1, 21101, 0, 957, 0, 1106, 0, 922, 22201, 1, -1, -2, 1105, 1, 968, 21202, -2, 1, -2, 109, -3, 2106, 0, 0]\n"
     ]
    }
   ],
   "source": [
    "import aocd\n",
    "from itertools import permutations\n",
    "data = list([int(d) for d in aocd.get_data(day=9).split(\",\")])\n",
    "print(data)"
   ]
  },
  {
   "cell_type": "code",
   "execution_count": 11,
   "metadata": {},
   "outputs": [],
   "source": [
    "IN_SIZE = {1: 4, 2: 4, 3: 2, 4: 2, 5: 3, 6: 3, 7: 4, 8: 4, 9: 2, 99: 1}\n",
    "IN_NAME =  {1: \"add\", 2: \"mul\", 3: \"rd\", 4: \"prnt\", 5: \"jnz\", 6: \"jz\", \n",
    "            7: \"lt\", 8: \"eq\", 9: \"bas\", 99: \"ret\"}\n",
    "EXT_MEM = 1000\n",
    "\n",
    "class Process():  # wrapper for generator\n",
    "    def __init__(self, data, inp=[], dbg=False): \n",
    "        self.d = data[:]+[0]*EXT_MEM  # copy + extend memory\n",
    "        self.done = False\n",
    "        self.pg = self.process_gen(dbg=dbg)\n",
    "        self.inp = inp\n",
    "        self.base = 0\n",
    "        \n",
    "    def process(self, inp=[]):\n",
    "        self.inp = inp\n",
    "        return next(self.pg)\n",
    "    \n",
    "    def proc_data(self, inp): \n",
    "        self.process(inp)\n",
    "        return self.d[:-EXT_MEM]\n",
    "    \n",
    "    def parse_ins(self, ptr, dbg):\n",
    "        param = [0, 0, 0]\n",
    "        ins = self.d[ptr]%100\n",
    "        modes = [self.d[ptr]//10**e%10 for e in range(2,5)]\n",
    "        for i, mode in enumerate(modes):\n",
    "            size = IN_SIZE[ins]-1\n",
    "            if i < size:\n",
    "                p = ptr+1+i\n",
    "                if mode == 0:  param[i] = self.d[p]          # position\n",
    "                if mode == 1:  param[i] = p                  # intermediate\n",
    "                if mode == 2:  param[i] = self.base+self.d[p]# relative\n",
    "        if dbg: print(ptr, IN_NAME[ins], param[:size], \n",
    "                      self.d[ptr:ptr+4], sep = \"\\t\")# debug print\n",
    "        return [ins] + param\n",
    "\n",
    "    def process_gen(self, dbg): \n",
    "        out = []; ptr = 0; d = self.d  # initializations\n",
    "        parse = lambda i: [i%100] + [i//10**e%10 for e in range(2,5)]\n",
    "        while ptr < len(d):                                     # stop on EOF\n",
    "            ins, p1, p2, p3 = self.parse_ins(ptr, dbg=dbg)\n",
    "            # if dbg:print(ptr, d)                              # debug print\n",
    "            if   ins == 1: d[p3] = d[p1] + d[p2]                # add\n",
    "            elif ins == 2: d[p3] = d[p1] * d[p2]                # mul\n",
    "            elif ins == 3:                                      # read\n",
    "                if not self.inp: yield out; out = []            # wait/flush\n",
    "                d[p1] = self.inp.pop(0)                         # read\n",
    "            elif ins == 4: out.append(d[p1])                    # print\n",
    "            elif ins == 5: ptr = d[p2]-3 if     d[p1] else ptr  # jnz\n",
    "            elif ins == 6: ptr = d[p2]-3 if not d[p1] else ptr  # jz\n",
    "            elif ins == 7: d[p3] = int(d[p1] < d[p2])           # lt\n",
    "            elif ins == 8: d[p3] = int(d[p1] == d[p2])          # eq\n",
    "            elif ins == 9: self.base += d[p1]                   # base\n",
    "            elif ins ==99: self.done=True; yield out            # ret\n",
    "            else: print(f\"invalid opcode {ins} @ {ptr}\")        # err\n",
    "            ptr += IN_SIZE[ins] # jmp is compensated with -3    # move ptr\n",
    "        \n",
    "\n",
    "def chain_process(prog, inl, out=[0], dbg=False):\n",
    "    proc = [Process(prog, dbg=dbg) for inp in inl]\n",
    "    for epoch in range(100000):\n",
    "        for i, inp in enumerate(inl):\n",
    "            out = proc[i].process(([inp] if epoch == 0 else [])+out)\n",
    "            if proc[i].done and i == len(inl)-1:  # if the last is done, get out\n",
    "                return out[0]\n",
    "\n",
    "\n",
    "assert Process([1,9,10,3,2,3,11,0,99,30,40,50]).proc_data([]) == [3500,9,10,70,2,3,11,0,99,30,40,50]\n",
    "assert Process([1002,4,3,4,33]).proc_data([]) == [1002,4,3,4,99]\n",
    "assert chain_process([3,15,3,16,1002,16,10,16,1,16,15,15,4,15,99,0,0], [4,3,2,1,0]) == 43210\n",
    "assert chain_process([3,23,3,24,1002,24,10,24,1002,23,-1,23,\n",
    "                      101,5,23,23,1,24,23,23,4,23,99,0,0], [0,1,2,3,4]) == 54321\n",
    "assert chain_process([3,31,3,32,1002,32,10,32,1001,31,-2,31,1007,31,0,33,\n",
    "                      1002,33,7,33,1,33,31,31,1,32,31,31,4,31,99,0,0,0], [1,0,4,3,2]) == 65210\n",
    "assert chain_process([3,26,1001,26,-4,26,3,27,1002,27,2,27,1,27,26,\n",
    "                      27,4,27,1001,28,-1,28,1005,28,6,99,0,0,5], [9,8,7,6,5]) == 139629729\n",
    "assert chain_process([3,52,1001,52,-5,52,3,53,1,52,56,54,1007,54,5,55,1005,55,26,1001,54,\n",
    "                      -5,54,1105,1,12,1,53,54,53,1008,54,0,55,1001,55,1,55,2,53,55,53,4,\n",
    "                      53,1001,56,-1,56,1005,56,6,99,0,0,0,0,10], [9,7,8,5,6]) == 18216\n",
    "sp = [109,1,204,-1,1001,100,1,100,1008,100,16,101,1006,101,0,99]\n",
    "assert Process(sp).process() == sp\n",
    "assert Process([1102,34915192,34915192,7,4,7,99,0]).process() == [1219070632396864]"
   ]
  },
  {
   "cell_type": "code",
   "execution_count": 12,
   "metadata": {},
   "outputs": [],
   "source": [
    "def chain_process_loop(prog, ran=range(5), dbg=False):  # search all permutations\n",
    "    best = {chain_process(prog, inp, dbg=dbg): inp for inp in permutations(ran)}\n",
    "    best_k = max(best.keys())\n",
    "    return best_k, list(best[best_k])  # return (best score, best permutation)\n",
    "\n",
    "assert chain_process_loop([3,15,3,16,1002,16,10,16,1,16,15,15,4,15,99,0,0]) [0] == 43210\n",
    "assert chain_process_loop([3,26,1001,26,-4,26,3,27,1002,27,2,27,1,27,26,\n",
    "                      27,4,27,1001,28,-1,28,1005,28,6,99,0,0,5], range(5,10)) == (139629729, [9,8,7,6,5])\n",
    "assert chain_process_loop([3,52,1001,52,-5,52,3,53,1,52,56,54,1007,54,5,55,1005,55,26,1001,54,\n",
    "                      -5,54,1105,1,12,1,53,54,53,1008,54,0,55,1001,55,1,55,2,53,55,53,4,\n",
    "                      53,1001,56,-1,56,1005,56,6,99,0,0,0,0,10], range(5,10)) == (18216, [9,7,8,5,6])\n",
    "# assert chain_process_loop(data) == (79723, [2,3,1,0,4])                   # lvl7 checks\n",
    "# assert chain_process_loop(data, range(5,10)) == (70602018 , [6,9,7,8,5])"
   ]
  },
  {
   "cell_type": "code",
   "execution_count": 13,
   "metadata": {},
   "outputs": [
    {
     "name": "stderr",
     "output_type": "stream",
     "text": [
      "answer a: 2752191671\n",
      "submitting for part b (part a is already completed)\n"
     ]
    },
    {
     "name": "stdout",
     "output_type": "stream",
     "text": [
      "aocd will not submit that answer again. You've previously guessed 2752191671 and the server responded:\n",
      "\u001b[31mThat's not the right answer; your answer is too high.  If you're stuck, make sure you're using the full input data; there are also some general tips on the about page, or you can ask for hints on the subreddit.  Please wait one minute before trying again. (You guessed 2752191671.) [Return to Day 9]\u001b[0m\n"
     ]
    }
   ],
   "source": [
    "aocd.submit(day=9, answer=Process(data).process([1])[0])"
   ]
  },
  {
   "cell_type": "code",
   "execution_count": 14,
   "metadata": {},
   "outputs": [
    {
     "name": "stderr",
     "output_type": "stream",
     "text": [
      "answer a: 2752191671\n",
      "submitting for part b (part a is already completed)\n"
     ]
    },
    {
     "name": "stdout",
     "output_type": "stream",
     "text": [
      "\u001b[32mThat's the right answer!  You are one gold star closer to rescuing Santa.You have completed Day 9! You can [Shareon\n",
      "  Twitter\n",
      "Mastodon] this victory or [Return to Your Advent Calendar].\u001b[0m\n"
     ]
    },
    {
     "data": {
      "text/plain": [
       "<Response [200]>"
      ]
     },
     "execution_count": 14,
     "metadata": {},
     "output_type": "execute_result"
    }
   ],
   "source": [
    "aocd.submit(day=9, answer=Process(data).process([2])[0])"
   ]
  },
  {
   "cell_type": "code",
   "execution_count": null,
   "metadata": {},
   "outputs": [],
   "source": []
  }
 ],
 "metadata": {
  "kernelspec": {
   "display_name": "Python 3",
   "language": "python",
   "name": "python3"
  },
  "language_info": {
   "codemirror_mode": {
    "name": "ipython",
    "version": 3
   },
   "file_extension": ".py",
   "mimetype": "text/x-python",
   "name": "python",
   "nbconvert_exporter": "python",
   "pygments_lexer": "ipython3",
   "version": "3.7.3"
  }
 },
 "nbformat": 4,
 "nbformat_minor": 4
}
