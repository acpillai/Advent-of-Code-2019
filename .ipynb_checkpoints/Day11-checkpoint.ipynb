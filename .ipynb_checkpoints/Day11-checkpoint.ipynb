{
 "cells": [
  {
   "cell_type": "code",
   "execution_count": 1,
   "metadata": {},
   "outputs": [
    {
     "name": "stdout",
     "output_type": "stream",
     "text": [
      "[3, 8, 1005, 8, 314, 1106, 0, 11, 0, 0, 0, 104, 1, 104, 0, 3, 8, 1002, 8, -1, 10, 1001, 10, 1, 10, 4, 10, 108, 1, 8, 10, 4, 10, 1002, 8, 1, 28, 2, 2, 16, 10, 1, 1108, 7, 10, 1006, 0, 10, 1, 5, 14, 10, 3, 8, 102, -1, 8, 10, 101, 1, 10, 10, 4, 10, 108, 1, 8, 10, 4, 10, 102, 1, 8, 65, 1006, 0, 59, 2, 109, 1, 10, 1006, 0, 51, 2, 1003, 12, 10, 3, 8, 102, -1, 8, 10, 1001, 10, 1, 10, 4, 10, 108, 1, 8, 10, 4, 10, 1001, 8, 0, 101, 1006, 0, 34, 1, 1106, 0, 10, 1, 1101, 17, 10, 3, 8, 102, -1, 8, 10, 101, 1, 10, 10, 4, 10, 1008, 8, 0, 10, 4, 10, 1001, 8, 0, 135, 3, 8, 1002, 8, -1, 10, 101, 1, 10, 10, 4, 10, 108, 0, 8, 10, 4, 10, 1001, 8, 0, 156, 3, 8, 1002, 8, -1, 10, 101, 1, 10, 10, 4, 10, 108, 0, 8, 10, 4, 10, 1001, 8, 0, 178, 1, 108, 19, 10, 3, 8, 102, -1, 8, 10, 101, 1, 10, 10, 4, 10, 108, 0, 8, 10, 4, 10, 1002, 8, 1, 204, 1, 1006, 17, 10, 3, 8, 102, -1, 8, 10, 101, 1, 10, 10, 4, 10, 108, 1, 8, 10, 4, 10, 102, 1, 8, 230, 1006, 0, 67, 1, 103, 11, 10, 1, 1009, 19, 10, 1, 109, 10, 10, 3, 8, 102, -1, 8, 10, 101, 1, 10, 10, 4, 10, 1008, 8, 0, 10, 4, 10, 101, 0, 8, 268, 3, 8, 102, -1, 8, 10, 101, 1, 10, 10, 4, 10, 1008, 8, 1, 10, 4, 10, 1002, 8, 1, 290, 2, 108, 13, 10, 101, 1, 9, 9, 1007, 9, 989, 10, 1005, 10, 15, 99, 109, 636, 104, 0, 104, 1, 21101, 48210224024, 0, 1, 21101, 0, 331, 0, 1105, 1, 435, 21101, 0, 937264165644, 1, 21101, 0, 342, 0, 1105, 1, 435, 3, 10, 104, 0, 104, 1, 3, 10, 104, 0, 104, 0, 3, 10, 104, 0, 104, 1, 3, 10, 104, 0, 104, 1, 3, 10, 104, 0, 104, 0, 3, 10, 104, 0, 104, 1, 21101, 235354025051, 0, 1, 21101, 389, 0, 0, 1105, 1, 435, 21102, 29166169280, 1, 1, 21102, 400, 1, 0, 1105, 1, 435, 3, 10, 104, 0, 104, 0, 3, 10, 104, 0, 104, 0, 21102, 709475849060, 1, 1, 21102, 1, 423, 0, 1106, 0, 435, 21102, 868498428684, 1, 1, 21101, 434, 0, 0, 1105, 1, 435, 99, 109, 2, 21201, -1, 0, 1, 21101, 0, 40, 2, 21102, 1, 466, 3, 21101, 456, 0, 0, 1105, 1, 499, 109, -2, 2105, 1, 0, 0, 1, 0, 0, 1, 109, 2, 3, 10, 204, -1, 1001, 461, 462, 477, 4, 0, 1001, 461, 1, 461, 108, 4, 461, 10, 1006, 10, 493, 1101, 0, 0, 461, 109, -2, 2106, 0, 0, 0, 109, 4, 2102, 1, -1, 498, 1207, -3, 0, 10, 1006, 10, 516, 21102, 1, 0, -3, 21201, -3, 0, 1, 21201, -2, 0, 2, 21102, 1, 1, 3, 21102, 535, 1, 0, 1106, 0, 540, 109, -4, 2106, 0, 0, 109, 5, 1207, -3, 1, 10, 1006, 10, 563, 2207, -4, -2, 10, 1006, 10, 563, 21202, -4, 1, -4, 1106, 0, 631, 21201, -4, 0, 1, 21201, -3, -1, 2, 21202, -2, 2, 3, 21101, 582, 0, 0, 1105, 1, 540, 22102, 1, 1, -4, 21102, 1, 1, -1, 2207, -4, -2, 10, 1006, 10, 601, 21101, 0, 0, -1, 22202, -2, -1, -2, 2107, 0, -3, 10, 1006, 10, 623, 22102, 1, -1, 1, 21101, 623, 0, 0, 105, 1, 498, 21202, -2, -1, -2, 22201, -4, -2, -4, 109, -5, 2105, 1, 0]\n"
     ]
    }
   ],
   "source": [
    "import aocd\n",
    "import numpy as np\n",
    "from time import sleep\n",
    "from collections import defaultdict\n",
    "from itertools import permutations\n",
    "import matplotlib.pyplot as plt\n",
    "\n",
    "data = list([int(d) for d in aocd.get_data(day=11).split(\",\")])\n",
    "print(data)"
   ]
  },
  {
   "cell_type": "code",
   "execution_count": 2,
   "metadata": {},
   "outputs": [],
   "source": [
    "IN_SIZE = {1: 4, 2: 4, 3: 2, 4: 2, 5: 3, 6: 3, 7: 4, 8: 4, 9: 2, 99: 1}\n",
    "IN_NAME =  {1: \"add\", 2: \"mul\", 3: \"rd\", 4: \"prnt\", 5: \"jnz\", 6: \"jz\", \n",
    "            7: \"lt\", 8: \"eq\", 9: \"bas\", 99: \"ret\"}\n",
    "EXT_MEM = 1000\n",
    "\n",
    "class Process():  # wrapper for generator\n",
    "    def __init__(self, data, inp=[], dbg=False): \n",
    "        self.d = data[:]+[0]*EXT_MEM  # copy + extend memory\n",
    "        self.done = False\n",
    "        self.pg = self.process_gen(dbg=dbg)\n",
    "        self.inp = inp\n",
    "        self.base = 0\n",
    "        \n",
    "    def process(self, inp=[]):\n",
    "        self.inp = inp\n",
    "        return next(self.pg)\n",
    "    \n",
    "    def proc_data(self, inp): \n",
    "        self.process(inp)\n",
    "        return self.d[:-EXT_MEM]\n",
    "    \n",
    "    def parse_ins(self, ptr, dbg):\n",
    "        param = [0, 0, 0]\n",
    "        ins = self.d[ptr]%100\n",
    "        modes = [self.d[ptr]//10**e%10 for e in range(2,5)]\n",
    "        for i, mode in enumerate(modes):\n",
    "            size = IN_SIZE[ins]-1\n",
    "            if i < size:\n",
    "                p = ptr+1+i\n",
    "                if mode == 0:  param[i] = self.d[p]          # position\n",
    "                if mode == 1:  param[i] = p                  # intermediate\n",
    "                if mode == 2:  param[i] = self.base+self.d[p]# relative\n",
    "        if dbg: print(ptr, IN_NAME[ins], param[:size], \n",
    "                      self.d[ptr:ptr+4], sep = \"\\t\")# debug print\n",
    "        return [ins] + param\n",
    "\n",
    "    def process_gen(self, dbg): \n",
    "        out = []; ptr = 0; d = self.d  # initializations\n",
    "        parse = lambda i: [i%100] + [i//10**e%10 for e in range(2,5)]\n",
    "        while ptr < len(d):                                     # stop on EOF\n",
    "            ins, p1, p2, p3 = self.parse_ins(ptr, dbg=dbg)\n",
    "            # if dbg:print(ptr, d)                              # debug print\n",
    "            if   ins == 1: d[p3] = d[p1] + d[p2]                # add\n",
    "            elif ins == 2: d[p3] = d[p1] * d[p2]                # mul\n",
    "            elif ins == 3:                                      # read\n",
    "                if not self.inp: yield out; out = []            # wait/flush\n",
    "                d[p1] = self.inp.pop(0)                         # read\n",
    "            elif ins == 4: out.append(d[p1])                    # print\n",
    "            elif ins == 5: ptr = d[p2]-3 if     d[p1] else ptr  # jnz\n",
    "            elif ins == 6: ptr = d[p2]-3 if not d[p1] else ptr  # jz\n",
    "            elif ins == 7: d[p3] = int(d[p1] < d[p2])           # lt\n",
    "            elif ins == 8: d[p3] = int(d[p1] == d[p2])          # eq\n",
    "            elif ins == 9: self.base += d[p1]                   # base\n",
    "            elif ins ==99: self.done=True; yield out            # ret\n",
    "            else: print(f\"invalid opcode {ins} @ {ptr}\")        # err\n",
    "            ptr += IN_SIZE[ins] # jmp is compensated with -3    # move ptr\n",
    "        \n",
    "\n",
    "def chain_process(prog, inl, out=[0], dbg=False):\n",
    "    proc = [Process(prog, dbg=dbg) for inp in inl]\n",
    "    for epoch in range(100000):\n",
    "        for i, inp in enumerate(inl):\n",
    "            out = proc[i].process(([inp] if epoch == 0 else [])+out)\n",
    "            if proc[i].done and i == len(inl)-1:  # if the last is done, get out\n",
    "                return out[0]\n",
    "\n",
    "\n",
    "assert Process([1,9,10,3,2,3,11,0,99,30,40,50]).proc_data([]) == [3500,9,10,70,2,3,11,0,99,30,40,50]\n",
    "assert Process([1002,4,3,4,33]).proc_data([]) == [1002,4,3,4,99]\n",
    "assert chain_process([3,15,3,16,1002,16,10,16,1,16,15,15,4,15,99,0,0], [4,3,2,1,0]) == 43210\n",
    "assert chain_process([3,23,3,24,1002,24,10,24,1002,23,-1,23,\n",
    "                      101,5,23,23,1,24,23,23,4,23,99,0,0], [0,1,2,3,4]) == 54321\n",
    "assert chain_process([3,31,3,32,1002,32,10,32,1001,31,-2,31,1007,31,0,33,\n",
    "                      1002,33,7,33,1,33,31,31,1,32,31,31,4,31,99,0,0,0], [1,0,4,3,2]) == 65210\n",
    "assert chain_process([3,26,1001,26,-4,26,3,27,1002,27,2,27,1,27,26,\n",
    "                      27,4,27,1001,28,-1,28,1005,28,6,99,0,0,5], [9,8,7,6,5]) == 139629729\n",
    "assert chain_process([3,52,1001,52,-5,52,3,53,1,52,56,54,1007,54,5,55,1005,55,26,1001,54,\n",
    "                      -5,54,1105,1,12,1,53,54,53,1008,54,0,55,1001,55,1,55,2,53,55,53,4,\n",
    "                      53,1001,56,-1,56,1005,56,6,99,0,0,0,0,10], [9,7,8,5,6]) == 18216\n",
    "sp = [109,1,204,-1,1001,100,1,100,1008,100,16,101,1006,101,0,99]\n",
    "assert Process(sp).process() == sp\n",
    "assert Process([1102,34915192,34915192,7,4,7,99,0]).process() == [1219070632396864]"
   ]
  },
  {
   "cell_type": "code",
   "execution_count": 3,
   "metadata": {},
   "outputs": [],
   "source": [
    "def chain_process_loop(prog, ran=range(5), dbg=False):  # search all permutations\n",
    "    best = {chain_process(prog, inp, dbg=dbg): inp for inp in permutations(ran)}\n",
    "    best_k = max(best.keys())\n",
    "    return best_k, list(best[best_k])  # return (best score, best permutation)\n",
    "\n",
    "assert chain_process_loop([3,15,3,16,1002,16,10,16,1,16,15,15,4,15,99,0,0]) [0] == 43210\n",
    "assert chain_process_loop([3,26,1001,26,-4,26,3,27,1002,27,2,27,1,27,26,\n",
    "                      27,4,27,1001,28,-1,28,1005,28,6,99,0,0,5], range(5,10)) == (139629729, [9,8,7,6,5])\n",
    "assert chain_process_loop([3,52,1001,52,-5,52,3,53,1,52,56,54,1007,54,5,55,1005,55,26,1001,54,\n",
    "                      -5,54,1105,1,12,1,53,54,53,1008,54,0,55,1001,55,1,55,2,53,55,53,4,\n",
    "                      53,1001,56,-1,56,1005,56,6,99,0,0,0,0,10], range(5,10)) == (18216, [9,7,8,5,6])\n",
    "# assert chain_process_loop(data) == (79723, [2,3,1,0,4])                   # lvl7 checks\n",
    "# assert chain_process_loop(data, range(5,10)) == (70602018 , [6,9,7,8,5])"
   ]
  },
  {
   "cell_type": "code",
   "execution_count": 4,
   "metadata": {},
   "outputs": [
    {
     "name": "stderr",
     "output_type": "stream",
     "text": [
      "answer a: 2343\n",
      "submitting for part b (part a is already completed)\n",
      "wrong answer: 2343\n"
     ]
    },
    {
     "name": "stdout",
     "output_type": "stream",
     "text": [
      "\u001b[31mThat's not the right answer.  If you're stuck, make sure you're using the full input data; there are also some general tips on the about page, or you can ask for hints on the subreddit.  Please wait one minute before trying again. (You guessed 2343.) [Return to Day 11]\u001b[0m\n"
     ]
    },
    {
     "data": {
      "text/plain": [
       "<Response [200]>"
      ]
     },
     "execution_count": 4,
     "metadata": {},
     "output_type": "execute_result"
    }
   ],
   "source": [
    "BLACK, WHITE = 0, 1\n",
    "def paint_ship(data, start_col=BLACK):\n",
    "    ship = defaultdict(int)\n",
    "    pos = 0\n",
    "    direction = 1j\n",
    "    lr = {0: 1j, 1: -1j}\n",
    "    ship[pos] = start_col\n",
    "\n",
    "    p = Process(data)\n",
    "    while not p.done:\n",
    "        curr_col = ship[pos]\n",
    "        next_col, next_dir = p.process([curr_col])\n",
    "        ship[pos] = next_col\n",
    "        direction *= lr[next_dir]\n",
    "        pos += direction\n",
    "    return ship\n",
    "\n",
    "aocd.submit(day=11, answer=len(paint_ship(data))) # get number of cells"
   ]
  },
  {
   "cell_type": "code",
   "execution_count": 5,
   "metadata": {},
   "outputs": [
    {
     "data": {
      "image/png": "[encoded data removed]",
      "text/plain": [
       "<Figure size 432x288 with 1 Axes>"
      ]
     },
     "metadata": {
      "needs_background": "light"
     },
     "output_type": "display_data"
    }
   ],
   "source": [
    "def show(ship):\n",
    "    real = [int(i.real) for i in ship.keys()]  # get real compontents\n",
    "    imag = [int(i.imag) for i in ship.keys()]  # get imag components\n",
    "    minr, maxr, mini, maxi = min(real), max(real), min(imag), max(imag)  # get ranges\n",
    "    arr = np.zeros((maxr-minr+1, maxi-mini+1))  # create canvas with enough size\n",
    "    for pos, col in ship.items():\n",
    "        x, y = pos.real - minr, pos.imag - mini\n",
    "        arr[int(x),int(y)] = col\n",
    "    plt.imshow(np.rot90(arr), cmap=\"Greys\")\n",
    "\n",
    "show(paint_ship(data, WHITE))"
   ]
  },
  {
   "cell_type": "code",
   "execution_count": 6,
   "metadata": {},
   "outputs": [
    {
     "name": "stderr",
     "output_type": "stream",
     "text": [
      "answer a: 2343\n",
      "submitting for part b (part a is already completed)\n"
     ]
    },
    {
     "name": "stdout",
     "output_type": "stream",
     "text": [
      "\u001b[32mThat's the right answer!  You are one gold star closer to rescuing Santa.You have completed Day 11! You can [Shareon\n",
      "  Twitter\n",
      "Mastodon] this victory or [Return to Your Advent Calendar].\u001b[0m\n"
     ]
    },
    {
     "data": {
      "text/plain": [
       "<Response [200]>"
      ]
     },
     "execution_count": 6,
     "metadata": {},
     "output_type": "execute_result"
    }
   ],
   "source": [
    "aocd.submit(\"JFBERBUH\", day=11)"
   ]
  },
  {
   "cell_type": "code",
   "execution_count": null,
   "metadata": {},
   "outputs": [],
   "source": []
  }
 ],
 "metadata": {
  "kernelspec": {
   "display_name": "Python 3",
   "language": "python",
   "name": "python3"
  },
  "language_info": {
   "codemirror_mode": {
    "name": "ipython",
    "version": 3
   },
   "file_extension": ".py",
   "mimetype": "text/x-python",
   "name": "python",
   "nbconvert_exporter": "python",
   "pygments_lexer": "ipython3",
   "version": "3.7.3"
  }
 },
 "nbformat": 4,
 "nbformat_minor": 4
}
