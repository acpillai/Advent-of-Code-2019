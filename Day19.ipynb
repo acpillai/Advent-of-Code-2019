{
 "cells": [
  {
   "cell_type": "code",
   "execution_count": 1,
   "metadata": {},
   "outputs": [
    {
     "name": "stdout",
     "output_type": "stream",
     "text": [
      "[109, 424, 203, 1, 21101, 11, 0, 0, 1105, 1, 282, 21102, 1, 18, 0, 1105, 1, 259, 2102, 1, 1, 221, 203, 1, 21102, 1, 31, 0, 1105, 1, 282, 21102, 38, 1, 0, 1105, 1, 259, 20101, 0, 23, 2, 22102, 1, 1, 3, 21101, 1, 0, 1, 21101, 57, 0, 0, 1105, 1, 303, 2101, 0, 1, 222, 21002, 221, 1, 3, 21002, 221, 1, 2, 21102, 1, 259, 1, 21101, 0, 80, 0, 1105, 1, 225, 21102, 83, 1, 2, 21102, 1, 91, 0, 1106, 0, 303, 2101, 0, 1, 223, 20102, 1, 222, 4, 21101, 0, 259, 3, 21101, 0, 225, 2, 21101, 225, 0, 1, 21101, 118, 0, 0, 1106, 0, 225, 20101, 0, 222, 3, 21101, 34, 0, 2, 21101, 133, 0, 0, 1105, 1, 303, 21202, 1, -1, 1, 22001, 223, 1, 1, 21102, 1, 148, 0, 1106, 0, 259, 1201, 1, 0, 223, 20102, 1, 221, 4, 20101, 0, 222, 3, 21101, 12, 0, 2, 1001, 132, -2, 224, 1002, 224, 2, 224, 1001, 224, 3, 224, 1002, 132, -1, 132, 1, 224, 132, 224, 21001, 224, 1, 1, 21101, 195, 0, 0, 105, 1, 108, 20207, 1, 223, 2, 20101, 0, 23, 1, 21102, 1, -1, 3, 21102, 214, 1, 0, 1105, 1, 303, 22101, 1, 1, 1, 204, 1, 99, 0, 0, 0, 0, 109, 5, 1202, -4, 1, 249, 22101, 0, -3, 1, 22101, 0, -2, 2, 21201, -1, 0, 3, 21101, 0, 250, 0, 1105, 1, 225, 21201, 1, 0, -4, 109, -5, 2106, 0, 0, 109, 3, 22107, 0, -2, -1, 21202, -1, 2, -1, 21201, -1, -1, -1, 22202, -1, -2, -2, 109, -3, 2106, 0, 0, 109, 3, 21207, -2, 0, -1, 1206, -1, 294, 104, 0, 99, 22101, 0, -2, -2, 109, -3, 2106, 0, 0, 109, 5, 22207, -3, -4, -1, 1206, -1, 346, 22201, -4, -3, -4, 21202, -3, -1, -1, 22201, -4, -1, 2, 21202, 2, -1, -1, 22201, -4, -1, 1, 21201, -2, 0, 3, 21101, 343, 0, 0, 1105, 1, 303, 1105, 1, 415, 22207, -2, -3, -1, 1206, -1, 387, 22201, -3, -2, -3, 21202, -2, -1, -1, 22201, -3, -1, 3, 21202, 3, -1, -1, 22201, -3, -1, 2, 21201, -4, 0, 1, 21101, 384, 0, 0, 1105, 1, 303, 1106, 0, 415, 21202, -4, -1, -4, 22201, -4, -3, -4, 22202, -3, -2, -2, 22202, -2, -4, -4, 22202, -3, -2, -3, 21202, -4, -1, -2, 22201, -3, -2, 1, 21202, 1, 1, -4, 109, -5, 2106, 0, 0]\n"
     ]
    }
   ],
   "source": [
    "import aocd\n",
    "import numpy as np\n",
    "from copy import copy\n",
    "data = list([int(d) for d in aocd.get_data(day=19).split(\",\")])\n",
    "print(data)"
   ]
  },
  {
   "cell_type": "code",
   "execution_count": 2,
   "metadata": {},
   "outputs": [],
   "source": [
    "IN_SIZE = {1: 4, 2: 4, 3: 2, 4: 2, 5: 3, 6: 3, 7: 4, 8: 4, 9: 2, 99: 1}\n",
    "IN_NAME =  {1: \"add\", 2: \"mul\", 3: \"rd\", 4: \"prnt\", 5: \"jnz\", 6: \"jz\", \n",
    "            7: \"lt\", 8: \"eq\", 9: \"bas\", 99: \"ret\"}\n",
    "EXT_MEM = 100\n",
    "\n",
    "class Process():  # wrapper for generator\n",
    "    def __init__(self, data, ptr=0, dbg=False): \n",
    "        self.d = data[:]+[0]*EXT_MEM  # copy + extend memory\n",
    "        self.done = False\n",
    "        self.base = 0\n",
    "        self.ptr = ptr\n",
    "    \n",
    "    def parse_ins(self, ptr, dbg=False):\n",
    "        param = [0, 0, 0]\n",
    "        ins = self.d[ptr]%100\n",
    "        modes = [self.d[ptr]//10**e%10 for e in range(2,5)]\n",
    "        for i, mode in enumerate(modes):\n",
    "            size = IN_SIZE[ins]-1\n",
    "            if i < size:\n",
    "                p = ptr+1+i\n",
    "                if mode == 0:  param[i] = self.d[p]          # position\n",
    "                if mode == 1:  param[i] = p                  # intermediate\n",
    "                if mode == 2:  param[i] = self.base+self.d[p]# relative\n",
    "        if dbg: print(ptr, IN_NAME[ins], param[:size], \n",
    "                      self.d[ptr:ptr+4], sep = \"\\t\")# debug print\n",
    "        return [ins] + param\n",
    "\n",
    "    def process(self, inp, dbg=False): \n",
    "        out = []; ptr = self.ptr; d = self.d  # initializations\n",
    "        parse = lambda i: [i%100] + [i//10**e%10 for e in range(2,5)]\n",
    "        while ptr < len(d):                                     # stop on EOF\n",
    "            ins, p1, p2, p3 = self.parse_ins(ptr, dbg=dbg)\n",
    "            # if dbg:print(ptr, d)                              # debug print\n",
    "            if   ins == 1: d[p3] = d[p1] + d[p2]                # add\n",
    "            elif ins == 2: d[p3] = d[p1] * d[p2]                # mul\n",
    "            elif ins == 3:                                      # read\n",
    "                if not inp: self.ptr = ptr; return out;         # wait/flush\n",
    "                d[p1] = inp.pop(0)                              # read\n",
    "            elif ins == 4: out.append(d[p1])                    # print\n",
    "            elif ins == 5: ptr = d[p2]-3 if     d[p1] else ptr  # jnz\n",
    "            elif ins == 6: ptr = d[p2]-3 if not d[p1] else ptr  # jz\n",
    "            elif ins == 7: d[p3] = int(d[p1] < d[p2])           # lt\n",
    "            elif ins == 8: d[p3] = int(d[p1] == d[p2])          # eq\n",
    "            elif ins == 9: self.base += d[p1]                   # base\n",
    "            elif ins ==99: self.done=True; return out           # ret\n",
    "            else: print(f\"invalid opcode {ins} @ {ptr}\")        # err\n",
    "            ptr += IN_SIZE[ins] # jmp is compensated with -3    # move ptr\n",
    "\n",
    "# tests in other files"
   ]
  },
  {
   "cell_type": "code",
   "execution_count": 3,
   "metadata": {},
   "outputs": [
    {
     "name": "stderr",
     "output_type": "stream",
     "text": [
      "answer a: 176\n",
      "submitting for part b (part a is already completed)\n"
     ]
    },
    {
     "name": "stdout",
     "output_type": "stream",
     "text": [
      "aocd will not submit that answer again. You've previously guessed 176 and the server responded:\n",
      "\u001b[31mThat's not the right answer; your answer is too low.  If you're stuck, make sure you're using the full input data; there are also some general tips on the about page, or you can ask for hints on the subreddit.  Please wait one minute before trying again. (You guessed 176.) [Return to Day 19]\u001b[0m\n"
     ]
    }
   ],
   "source": [
    "def init(x, y):\n",
    "    a = np.zeros((x,y), dtype=int)\n",
    "    for pos, val in np.ndenumerate(a):\n",
    "        a[pos]=Process(data).process(list(pos))[0]\n",
    "    return a\n",
    "\n",
    "aocd.submit(np.sum(init(50,50)), day=19)"
   ]
  },
  {
   "cell_type": "code",
   "execution_count": 4,
   "metadata": {},
   "outputs": [
    {
     "ename": "KeyboardInterrupt",
     "evalue": "",
     "output_type": "error",
     "traceback": [
      "\u001b[0;31m---------------------------------------------------------------------------\u001b[0m",
      "\u001b[0;31mKeyboardInterrupt\u001b[0m                         Traceback (most recent call last)",
      "\u001b[0;32m<ipython-input-4-2283fb599cd1>\u001b[0m in \u001b[0;36m<module>\u001b[0;34m\u001b[0m\n\u001b[1;32m      5\u001b[0m     \u001b[0;32mreturn\u001b[0m \u001b[0mmin\u001b[0m\u001b[0;34m(\u001b[0m\u001b[0mres\u001b[0m\u001b[0;34m)\u001b[0m \u001b[0;32mif\u001b[0m \u001b[0mres\u001b[0m \u001b[0;32melse\u001b[0m \u001b[0;34m[\u001b[0m\u001b[0;34m]\u001b[0m\u001b[0;34m\u001b[0m\u001b[0;34m\u001b[0m\u001b[0m\n\u001b[1;32m      6\u001b[0m \u001b[0;34m\u001b[0m\u001b[0m\n\u001b[0;32m----> 7\u001b[0;31m \u001b[0ma\u001b[0m \u001b[0;34m=\u001b[0m \u001b[0minit\u001b[0m\u001b[0;34m(\u001b[0m\u001b[0;36m2000\u001b[0m\u001b[0;34m,\u001b[0m \u001b[0;36m800\u001b[0m\u001b[0;34m)\u001b[0m  \u001b[0;31m# 10/10 works with 110/60 so we use x10 here\u001b[0m\u001b[0;34m\u001b[0m\u001b[0;34m\u001b[0m\u001b[0m\n\u001b[0m\u001b[1;32m      8\u001b[0m \u001b[0maocd\u001b[0m\u001b[0;34m.\u001b[0m\u001b[0msubmit\u001b[0m\u001b[0;34m(\u001b[0m\u001b[0mscore\u001b[0m\u001b[0;34m(\u001b[0m\u001b[0mfind_square\u001b[0m\u001b[0;34m(\u001b[0m\u001b[0ma\u001b[0m\u001b[0;34m,\u001b[0m \u001b[0;36m100\u001b[0m\u001b[0;34m)\u001b[0m\u001b[0;34m)\u001b[0m\u001b[0;34m,\u001b[0m \u001b[0mday\u001b[0m\u001b[0;34m=\u001b[0m\u001b[0;36m19\u001b[0m\u001b[0;34m)\u001b[0m\u001b[0;34m\u001b[0m\u001b[0;34m\u001b[0m\u001b[0m\n",
      "\u001b[0;32m<ipython-input-3-ba181c862ba3>\u001b[0m in \u001b[0;36minit\u001b[0;34m(x, y)\u001b[0m\n\u001b[1;32m      2\u001b[0m     \u001b[0ma\u001b[0m \u001b[0;34m=\u001b[0m \u001b[0mnp\u001b[0m\u001b[0;34m.\u001b[0m\u001b[0mzeros\u001b[0m\u001b[0;34m(\u001b[0m\u001b[0;34m(\u001b[0m\u001b[0mx\u001b[0m\u001b[0;34m,\u001b[0m\u001b[0my\u001b[0m\u001b[0;34m)\u001b[0m\u001b[0;34m,\u001b[0m \u001b[0mdtype\u001b[0m\u001b[0;34m=\u001b[0m\u001b[0mint\u001b[0m\u001b[0;34m)\u001b[0m\u001b[0;34m\u001b[0m\u001b[0;34m\u001b[0m\u001b[0m\n\u001b[1;32m      3\u001b[0m     \u001b[0;32mfor\u001b[0m \u001b[0mpos\u001b[0m\u001b[0;34m,\u001b[0m \u001b[0mval\u001b[0m \u001b[0;32min\u001b[0m \u001b[0mnp\u001b[0m\u001b[0;34m.\u001b[0m\u001b[0mndenumerate\u001b[0m\u001b[0;34m(\u001b[0m\u001b[0ma\u001b[0m\u001b[0;34m)\u001b[0m\u001b[0;34m:\u001b[0m\u001b[0;34m\u001b[0m\u001b[0;34m\u001b[0m\u001b[0m\n\u001b[0;32m----> 4\u001b[0;31m         \u001b[0ma\u001b[0m\u001b[0;34m[\u001b[0m\u001b[0mpos\u001b[0m\u001b[0;34m]\u001b[0m\u001b[0;34m=\u001b[0m\u001b[0mProcess\u001b[0m\u001b[0;34m(\u001b[0m\u001b[0mdata\u001b[0m\u001b[0;34m)\u001b[0m\u001b[0;34m.\u001b[0m\u001b[0mprocess\u001b[0m\u001b[0;34m(\u001b[0m\u001b[0mlist\u001b[0m\u001b[0;34m(\u001b[0m\u001b[0mpos\u001b[0m\u001b[0;34m)\u001b[0m\u001b[0;34m)\u001b[0m\u001b[0;34m[\u001b[0m\u001b[0;36m0\u001b[0m\u001b[0;34m]\u001b[0m\u001b[0;34m\u001b[0m\u001b[0;34m\u001b[0m\u001b[0m\n\u001b[0m\u001b[1;32m      5\u001b[0m     \u001b[0;32mreturn\u001b[0m \u001b[0ma\u001b[0m\u001b[0;34m\u001b[0m\u001b[0;34m\u001b[0m\u001b[0m\n\u001b[1;32m      6\u001b[0m \u001b[0;34m\u001b[0m\u001b[0m\n",
      "\u001b[0;32m<ipython-input-2-24a4c5f5f2b5>\u001b[0m in \u001b[0;36mprocess\u001b[0;34m(self, inp, dbg)\u001b[0m\n\u001b[1;32m     30\u001b[0m         \u001b[0mparse\u001b[0m \u001b[0;34m=\u001b[0m \u001b[0;32mlambda\u001b[0m \u001b[0mi\u001b[0m\u001b[0;34m:\u001b[0m \u001b[0;34m[\u001b[0m\u001b[0mi\u001b[0m\u001b[0;34m%\u001b[0m\u001b[0;36m100\u001b[0m\u001b[0;34m]\u001b[0m \u001b[0;34m+\u001b[0m \u001b[0;34m[\u001b[0m\u001b[0mi\u001b[0m\u001b[0;34m//\u001b[0m\u001b[0;36m10\u001b[0m\u001b[0;34m**\u001b[0m\u001b[0me\u001b[0m\u001b[0;34m%\u001b[0m\u001b[0;36m10\u001b[0m \u001b[0;32mfor\u001b[0m \u001b[0me\u001b[0m \u001b[0;32min\u001b[0m \u001b[0mrange\u001b[0m\u001b[0;34m(\u001b[0m\u001b[0;36m2\u001b[0m\u001b[0;34m,\u001b[0m\u001b[0;36m5\u001b[0m\u001b[0;34m)\u001b[0m\u001b[0;34m]\u001b[0m\u001b[0;34m\u001b[0m\u001b[0;34m\u001b[0m\u001b[0m\n\u001b[1;32m     31\u001b[0m         \u001b[0;32mwhile\u001b[0m \u001b[0mptr\u001b[0m \u001b[0;34m<\u001b[0m \u001b[0mlen\u001b[0m\u001b[0;34m(\u001b[0m\u001b[0md\u001b[0m\u001b[0;34m)\u001b[0m\u001b[0;34m:\u001b[0m                                     \u001b[0;31m# stop on EOF\u001b[0m\u001b[0;34m\u001b[0m\u001b[0;34m\u001b[0m\u001b[0m\n\u001b[0;32m---> 32\u001b[0;31m             \u001b[0mins\u001b[0m\u001b[0;34m,\u001b[0m \u001b[0mp1\u001b[0m\u001b[0;34m,\u001b[0m \u001b[0mp2\u001b[0m\u001b[0;34m,\u001b[0m \u001b[0mp3\u001b[0m \u001b[0;34m=\u001b[0m \u001b[0mself\u001b[0m\u001b[0;34m.\u001b[0m\u001b[0mparse_ins\u001b[0m\u001b[0;34m(\u001b[0m\u001b[0mptr\u001b[0m\u001b[0;34m,\u001b[0m \u001b[0mdbg\u001b[0m\u001b[0;34m=\u001b[0m\u001b[0mdbg\u001b[0m\u001b[0;34m)\u001b[0m\u001b[0;34m\u001b[0m\u001b[0;34m\u001b[0m\u001b[0m\n\u001b[0m\u001b[1;32m     33\u001b[0m             \u001b[0;31m# if dbg:print(ptr, d)                              # debug print\u001b[0m\u001b[0;34m\u001b[0m\u001b[0;34m\u001b[0m\u001b[0;34m\u001b[0m\u001b[0m\n\u001b[1;32m     34\u001b[0m             \u001b[0;32mif\u001b[0m   \u001b[0mins\u001b[0m \u001b[0;34m==\u001b[0m \u001b[0;36m1\u001b[0m\u001b[0;34m:\u001b[0m \u001b[0md\u001b[0m\u001b[0;34m[\u001b[0m\u001b[0mp3\u001b[0m\u001b[0;34m]\u001b[0m \u001b[0;34m=\u001b[0m \u001b[0md\u001b[0m\u001b[0;34m[\u001b[0m\u001b[0mp1\u001b[0m\u001b[0;34m]\u001b[0m \u001b[0;34m+\u001b[0m \u001b[0md\u001b[0m\u001b[0;34m[\u001b[0m\u001b[0mp2\u001b[0m\u001b[0;34m]\u001b[0m                \u001b[0;31m# add\u001b[0m\u001b[0;34m\u001b[0m\u001b[0;34m\u001b[0m\u001b[0m\n",
      "\u001b[0;31mKeyboardInterrupt\u001b[0m: "
     ]
    }
   ],
   "source": [
    "score = lambda p: p[0]*10000+p[1]\n",
    "def find_square(a, size):\n",
    "    a = a.copy()  # do not modify the original!\n",
    "    res = [(x,y) for (x,y), _ in np.ndenumerate(a) if np.sum(a[x:x+size, y:y+size]) == size*size]\n",
    "    return min(res) if res else []\n",
    "\n",
    "a = init(2000, 800)  # 10/10 works with 110/60 so we use x10 here\n",
    "aocd.submit(score(find_square(a, 100)), day=19)"
   ]
  },
  {
   "cell_type": "code",
   "execution_count": 11,
   "metadata": {},
   "outputs": [
    {
     "name": "stdout",
     "output_type": "stream",
     "text": [
      "Part 1 answer: 176\n",
      "Part 2 answer: 6751081\n"
     ]
    }
   ],
   "source": [
    "from collections import defaultdict\n",
    "import aocd\n",
    "\n",
    "class Intcode:\n",
    "    def __init__(self, data, values=None):\n",
    "        self.prog = defaultdict(int)\n",
    "        for i, j in enumerate(map(int, data.split(\",\"))):\n",
    "            self.prog[i] = j\n",
    "        if values is None:\n",
    "            self.values = []\n",
    "        else:\n",
    "            self.values = values\n",
    "        self.pos = 0\n",
    "        self.rel_base = 0\n",
    "        self.output = None\n",
    "\n",
    "    def set(self, i, v, mode):\n",
    "        if mode == \"0\":\n",
    "            self.prog[self.prog[self.pos+i]] = v\n",
    "        else:\n",
    "            self.prog[self.prog[self.pos+i]+self.rel_base] = v\n",
    "\n",
    "    def get(self, i, mode):\n",
    "        if mode == \"0\":\n",
    "            return self.prog[self.prog[self.pos+i]]\n",
    "        elif mode == \"1\":\n",
    "            return self.prog[self.pos+i]\n",
    "        elif mode == \"2\":\n",
    "            return self.prog[self.prog[self.pos+i]+self.rel_base]\n",
    "\n",
    "    def run(self):\n",
    "        while True:\n",
    "            instruction = str(self.prog[self.pos]).zfill(5)\n",
    "            opcode = instruction[3:]\n",
    "            modes = list(reversed(instruction[:3]))\n",
    "\n",
    "            a, b = None, None\n",
    "            try:\n",
    "                a = self.get(1, modes[0])\n",
    "                b = self.get(2, modes[1])\n",
    "            except IndexError:\n",
    "                pass\n",
    "\n",
    "            if opcode == \"01\":\n",
    "                self.set(3, a + b, modes[2])\n",
    "                self.pos += 4\n",
    "            elif opcode == \"02\":\n",
    "                self.set(3, a * b, modes[2])\n",
    "                self.pos += 4\n",
    "            elif opcode == \"03\":\n",
    "                if len(self.values) == 0:\n",
    "                    yield None\n",
    "                self.set(1, self.values.pop(0), modes[0])\n",
    "                self.pos += 2\n",
    "            elif opcode == \"04\":\n",
    "                yield self.get(1, modes[0])\n",
    "                self.output = self.get(1, modes[0])\n",
    "                self.pos += 2\n",
    "            elif opcode == \"05\":\n",
    "                self.pos = b if a != 0 else self.pos+3\n",
    "            elif opcode == \"06\":\n",
    "                self.pos = b if a == 0 else self.pos+3\n",
    "            elif opcode == \"07\":\n",
    "                self.set(3, 1 if a < b else 0, modes[2])\n",
    "                self.pos += 4\n",
    "            elif opcode == \"08\":\n",
    "                self.set(3, 1 if a == b else 0, modes[2])\n",
    "                self.pos += 4\n",
    "            elif opcode == \"09\":\n",
    "                self.rel_base += a\n",
    "                self.pos += 2\n",
    "            else:\n",
    "                assert opcode == \"99\"\n",
    "                return self.output\n",
    "\n",
    "\n",
    "def inside_beam(data, x, y):\n",
    "    if x < 0 or y < 0:\n",
    "        return False\n",
    "\n",
    "    *_, output = Intcode(data, [x, y]).run()\n",
    "    return output == 1\n",
    "\n",
    "\n",
    "def part_1(data):\n",
    "    return sum(inside_beam(data, x, y) for x in range(50) for y in range(50))\n",
    "\n",
    "\n",
    "def part_2(data):\n",
    "    x = 0\n",
    "    for y in range(100, 100000):\n",
    "        while not inside_beam(data, x, y):\n",
    "            x += 1\n",
    "        if inside_beam(data, x+99, y-99):\n",
    "            return 10000*x + (y-99)\n",
    "\n",
    "\n",
    "inp = aocd.get_data(day=19)\n",
    "\n",
    "print(\"Part 1 answer: \" + str(part_1(inp)))\n",
    "print(\"Part 2 answer: \" + str(part_2(inp)))"
   ]
  }
 ],
 "metadata": {
  "kernelspec": {
   "display_name": "Python 3",
   "language": "python",
   "name": "python3"
  },
  "language_info": {
   "codemirror_mode": {
    "name": "ipython",
    "version": 3
   },
   "file_extension": ".py",
   "mimetype": "text/x-python",
   "name": "python",
   "nbconvert_exporter": "python",
   "pygments_lexer": "ipython3",
   "version": "3.7.3"
  }
 },
 "nbformat": 4,
 "nbformat_minor": 4
}
